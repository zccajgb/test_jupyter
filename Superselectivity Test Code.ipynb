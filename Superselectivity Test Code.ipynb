{
 "cells": [
  {
   "cell_type": "code",
   "execution_count": 20,
   "metadata": {},
   "outputs": [],
   "source": [
    "import numpy as np\n",
    "import scipy.constants as sc\n",
    "import matplotlib.pyplot as plt \n",
    "\n",
    "######## From the \"On the design of precision nanomedicines\" paper:\n",
    "# hpo = brush heigh of PEG brush on a planar surface\n",
    "# y = packing factor according to Zhulina et. al\n",
    "# hp = brush heigh of the polymer brush\n",
    "# G0 = G0ij (-lnp0 and kD), [between equations 8 and 9]\n",
    "# Gmob = configurational contribution due to the mobility of the receptors\n",
    "# GPEO = configurational contribution due to the fact the receptor needs to penetrate the PEG brush\n",
    "# Gcnf = total configurational contribution due to the constraints imposed by binding\n",
    "# G = total bond energy (already unitless due to Gcnf and G0 being divided by kT)\n",
    "# chi = exponent of -G\n",
    "# pL = the probability that a ligand(receptor) is unbound (pR is similar) - supplementary information\n",
    "# bEbond = avidity bond energy divided by kT, free energy due to bond formation, summed over all \n",
    "#.          possible bonding combinations\n",
    "# bUg = steric component of the glycocalyx\n",
    "# theta = surface coverage\n",
    "\n",
    "def hpo(Npeo, Apeo, o0):\n",
    "    return Npeo*((((Apeo)**5)/(3*o0))**1/3)\n",
    "def y(hpo, R):\n",
    "    return (hpo/R + 1)**2\n",
    "def hp(R, Npeo, Apeo, o0, y):\n",
    "    return R * ((1 + ((y + 2) * Npeo) / (3 * R) * ((Apeo**5) / (3 * o0))**(1/3)) ** (3/(y+2)) - 1)\n",
    "def G0(KD):\n",
    "    return -np.log(10**9 / KD)\n",
    "def Gmob(dp, hp):\n",
    "    return -np.log((2*np.pi*(hp*dp)**2)/400000000)\n",
    "def GPEO(Vp, o0, y, Npeo, Apeo, dp, R):\n",
    "    return (1-(dp)**2)**(9/4) * Vp * (o0*((1+dp*(1+((Npeo*(y+2))/(3*R))*(Apeo**5/(3*o0))**(1/3))**(3/y+2))-1)**(y-1))**(-3/2) \n",
    "def Gcnf(Gmob, GPEO):\n",
    "    return Gmob + GPEO \n",
    "def G(G0, Gcnf):\n",
    "    return G0 + Gcnf\n",
    "def chi(G):\n",
    "    return np.exp(-G)\n",
    "def pL(nL, nR, chi):\n",
    "    return ((nL - nR)*chi - 1 + np.sqrt((4*nL*chi)+(1+(nR-nL)*chi)**2))/(2*nL*chi)\n",
    "def pR(nL, nR, chi):\n",
    "    return ((nR - nL)*chi - 1 + np.sqrt((4*nR*chi)+(1+(nL-nR)*chi)**2))/(2*nR*chi)\n",
    "def bEbond(nL, nR, pL, pR):\n",
    "    return nL*(np.log(pL) + (1-pL)/2) + nR*(np.log(pR) + (1-pR)/2)\n",
    "def oHS(ds):\n",
    "    return (np.pi/24)*(ds)**2\n",
    "def bUg(R, dG, oHS):\n",
    "    return ((4*np.pi*(R**3))*(1-dG**2)**(9/4)) / (3 * (oHS**1.5))\n",
    "def theta(P, R, dp, hp, bUg, bEbond):                      \n",
    "    return (3 / (np.pi * P * sc.N_A * (3 * (R +(dp*hp))**3 - R**3) * \n",
    "                 np.exp(-bUg) * (np.exp(-bEbond) - 1)) + 1)**-1  \n",
    "            \n",
    "def logT(theta):\n",
    "    return np.log(theta)\n",
    "\n"
   ]
  },
  {
   "cell_type": "code",
   "execution_count": 21,
   "metadata": {},
   "outputs": [],
   "source": [
    "##### Constants to input #####\n",
    "\n",
    "P = 10**-24   #### Input concentration here (mol/nm^3)\n",
    "Npeo = 113    #### Input number of PEG monomer here (degree of polymerisation of the PEG brush)\n",
    "Apeo = 0.35   #### Input the size of the monomer (size of the PEG monomer is always 0.35nm)\n",
    "nR = 18       #### Input the number of receptors on the BECs (leave at 18 molecules per um^-2)\n",
    "KD = 313      #### Input the dissociation constant of the ligand (in nM - leave as 313 for\n",
    "              #### the dissociation constant for Angiopep2\n",
    "Vp = 188.4    #### Input the receptor volume (nm3)\n",
    "dG = 0.7      #### Input insertion parameter of the receptor within the glycan here\n",
    "ds = 20       #### Input the interchain distance of the glycan\n",
    "\n",
    "# --------------------- #\n",
    "\n",
    "##### Change these values for testing,                             #####\n",
    "##### can change to an array and check theta over R / dp / o0 / nL #####\n",
    "\n",
    "dp = 0.8      #### Input insertion parameter here\n",
    "R = 20        #### Input radius of polymersome / micelle here\n",
    "o0 = 3.14     #### Input the surface density of the PEG on the surface \n",
    "nL = np.linspace(1, 100, 10000)\n",
    "              #### Input the number of ligands on the nanoparticle, (molecules per um^2)\n",
    "\n",
    "# ---------------------- #\n",
    "\n",
    "# The following values below are the values obtained from the functions above. DO NOT TOUCH #\n",
    "\n",
    "hpo = hpo(Npeo, Apeo, o0)\n",
    "y = y(hpo, R)\n",
    "hp = hp(R, Npeo, Apeo, o0, y)\n",
    "oHS = oHS(ds)\n",
    "bUg = bUg(R, dG, oHS)\n",
    "Gmob = Gmob(dp, hp)\n",
    "GPEO = GPEO(Vp, o0, y, Npeo, Apeo, dp, R)\n",
    "G0 = G0(KD)\n",
    "Gcnf = Gcnf(Gmob, GPEO)\n",
    "G = G(G0, Gcnf)\n",
    "chi = chi(0.4030)\n",
    "pL = pL(nL,nR,chi)\n",
    "pR = pR(nL,nR,chi)\n",
    "bEbond = bEbond(nL, nR, pL, pR)\n",
    "theta = theta(P, R, dp, hp, bUg, bEbond)\n",
    "\n",
    "# ---------------------------------------------------------------------------------------- #\n",
    "\n",
    "logT = logT(theta)\n",
    "lognR = np.log(nL)"
   ]
  },
  {
   "cell_type": "code",
   "execution_count": 34,
   "metadata": {},
   "outputs": [
    {
     "name": "stdout",
     "output_type": "stream",
     "text": [
      "GMob: 13.955524398901662\n",
      "GPEO: 3.3811206142139145\n"
     ]
    },
    {
     "data": {
      "text/plain": [
       "[<matplotlib.lines.Line2D at 0x1cb220be1c0>]"
      ]
     },
     "execution_count": 34,
     "metadata": {},
     "output_type": "execute_result"
    },
    {
     "data": {
      "image/png": "[encoded data removed]",
      "text/plain": [
       "<Figure size 432x288 with 1 Axes>"
      ]
     },
     "metadata": {
      "needs_background": "light"
     },
     "output_type": "display_data"
    }
   ],
   "source": [
    "from pprint import pprint\n",
    "from numpy import exp\n",
    "# print(f'G_cnf {Gcnf}')\n",
    "print(f'GMob: {Gmob}')\n",
    "print(f'GPEO: {GPEO}')\n",
    "\n",
    "plt.xlabel('Number of Ligands per nanoparticle')\n",
    "plt.ylabel('Surface Coverage of BEC')\n",
    "plt.xlim(0,15)\n",
    "plt.gca().spines['top'].set_visible(False)\n",
    "plt.gca().spines['right'].set_visible(False)\n",
    "plt.plot(nL, theta)"
   ]
  },
  {
   "cell_type": "code",
   "execution_count": null,
   "metadata": {},
   "outputs": [],
   "source": []
  }
 ],
 "metadata": {
  "kernelspec": {
   "display_name": "Python 3",
   "language": "python",
   "name": "python3"
  },
  "language_info": {
   "codemirror_mode": {
    "name": "ipython",
    "version": 3
   },
   "file_extension": ".py",
   "mimetype": "text/x-python",
   "name": "python",
   "nbconvert_exporter": "python",
   "pygments_lexer": "ipython3",
   "version": "3.8.1"
  }
 },
 "nbformat": 4,
 "nbformat_minor": 4
}
