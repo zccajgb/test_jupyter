{
 "cells": [
  {
   "cell_type": "markdown",
   "metadata": {},
   "source": [
    "# Agent Based Modelling\n",
    "\n",
    "## Introduction\n",
    "\n",
    "Agent based modelling is a simple way of building up complex models. It is quite a logical way to look at a system. \n",
    "For example, if we were modelling the way water flows, we would consider each water molecule individually, and define some rules about how it moves, and how it interacts with other water particles. \n",
    "\n",
    "This can be extended to chemical and biological systems quite easily. For example for a simple chemical reaction, we can consider individual molecules, and define rules for how they move around, then if they collide with another particle, we can set rules for if they react or not. \n",
    "\n",
    "\n",
    "\n",
    "### Object Oriented Programming\n",
    "We are going to exploit objected-oriented (OO) programming to make this easy.\n",
    "\n",
    "- OO is based around objects, which are implementations of classes.\n",
    "- Classes are a type of data structure that contains properties and methods\n",
    "    - Properties are simply data values, the class human may have properties such as height, weight, etc.\n",
    "    - Methods are things that do something. They are similar to functions or procedures, but apply to objects\n",
    "        - methods can either return a value or return nothing\n",
    "        - methods can have \"side effects\", i.e. they can cause other things to happen\n",
    "- Here is a simple example of a class.\n"
   ]
  },
  {
   "cell_type": "code",
   "execution_count": 5,
   "metadata": {},
   "outputs": [
    {
     "name": "stdout",
     "output_type": "stream",
     "text": [
      "Rectangle 1 length: 2\n",
      "Area of rectangle 1: 8\n",
      "Area of rectangle 2: 9\n",
      "Area of rectangle 2 saved on the object: 9\n"
     ]
    }
   ],
   "source": [
    "class Rectangle(): #defines the class\n",
    "    def __init__(self, length, width): #A constructor. This is a special method that feeds in the initialisation values for the class\n",
    "        self.length = length\n",
    "        self.width = width\n",
    "        \n",
    "    def calculate_area(self): #A method. This has no side effects\n",
    "        return self.length * self.width #return statement \"spits out a value\"\n",
    "    \n",
    "    def calculate_area_with_side_effects(self): #A method with side effects\n",
    "        self.area = self.length * self.width # this is a side effect, as it sets the value area to be equal to the area\n",
    "        return self.area #returns out the area\n",
    "    \n",
    "    def calculate_area_without_returning(self):\n",
    "        self.area = self.length * self.width\n",
    "        \n",
    "rectangle1 = Rectangle(2,4) #initialises an object called rectangle1, with length 2 and width 4\n",
    "rectangle2 = Rectangle(3,3)\n",
    "\n",
    "# we can print out the properties of the rectangle\n",
    "print(f\"Rectangle 1 length: {rectangle1.length}\")\n",
    "\n",
    "# calculate area\n",
    "area1 = rectangle1.calculate_area() # spits out the area value\n",
    "area2 = rectangle2.calculate_area_with_side_effects() # spits out the area, but also sets rectangle2.area = 9\n",
    "\n",
    "# print out the values\n",
    "print(f\"Area of rectangle 1: {area1}\")\n",
    "print(f\"Area of rectangle 2: {area2}\")\n",
    "print(f\"Area of rectangle 2 saved on the object: {rectangle2.area}\")\n",
    "    "
   ]
  },
  {
   "cell_type": "markdown",
   "metadata": {},
   "source": [
    "- Classes can inherit from other classes. For example, we may define a \"shape\" class, with certain features, and then define child classes, such as square, rectangle, circle, etc.\n",
    "- Inheritence is a useful way of sharing properties. We can also use it to make sure all classes have certain features"
   ]
  },
  {
   "cell_type": "markdown",
   "metadata": {},
   "source": [
    "## Agent Based Modelling\n",
    "\n",
    "We are going to implement an agent based model using classes. We will first define \"abstract classes\", classes that dont do anything. We will then inherit from them classes, and implement the behaviour. \n",
    "\n",
    "For a simple example, we will consider agents that move around in 1 dimension randomly. If two agents end up in the same place we will say they collide, and stop the simulation.\n",
    "\n",
    "### Agent abstract class"
   ]
  },
  {
   "cell_type": "code",
   "execution_count": 1,
   "metadata": {},
   "outputs": [],
   "source": [
    "class Agent():\n",
    "    \n",
    "    def __init__(self, agent_id):\n",
    "        self.agent_id = agent_id\n",
    "        #your code here\n",
    "        pass\n",
    "    \n",
    "    def interact(self, agent):\n",
    "        # your code here\n",
    "        pass\n",
    "    \n",
    "    def step(self, value):\n",
    "        # your code here\n",
    "        pass"
   ]
  },
  {
   "cell_type": "markdown",
   "metadata": {},
   "source": [
    "### Agent Concrete Class"
   ]
  },
  {
   "cell_type": "code",
   "execution_count": 1,
   "metadata": {},
   "outputs": [],
   "source": [
    "class MyAgent(): #inherits from agent\n",
    "    def __init__(self, agent_id, position):\n",
    "        self.agent_id = agent_id #calls the contstructor on Agent\n",
    "        self.position = position #sets the position property\n",
    "        print(f\"agent {self.agent_id} initial position {self.position}\")\n",
    "        \n",
    "    def interact(self, agent):\n",
    "        if isinstance(agent, MyAgent): #check that agent is correct class\n",
    "            print(f\"Collision with agent {agent.agent_id}\")#\n",
    "        if isinstance(agent, MyAgent2):\n",
    "            print(f\"Collision with agent {agent.agent_id}\")\n",
    "        \n",
    "    def step(self, value):\n",
    "        self.position = self.position + value #updates position\n",
    "        print(f\"agent {self.agent_id} moved to position {self.position}\")"
   ]
  },
  {
   "cell_type": "markdown",
   "metadata": {},
   "source": [
    "### Model Abstract Class\n",
    "- This class is going to control the system"
   ]
  },
  {
   "cell_type": "code",
   "execution_count": 70,
   "metadata": {},
   "outputs": [],
   "source": [
    "class Model():\n",
    "    \n",
    "    def __init__(self):\n",
    "        pass\n",
    "        \n",
    "    def create_agents(self, number_of_agents):\n",
    "        pass\n",
    "    \n",
    "    def step(self):\n",
    "        pass\n",
    "    \n",
    "    def run(self, steps):\n",
    "        pass\n",
    "    \n",
    "    def interaction_criteria(self, agent1, agent2):\n",
    "        pass  "
   ]
  },
  {
   "cell_type": "markdown",
   "metadata": {},
   "source": [
    "### Model Concrete Class"
   ]
  },
  {
   "cell_type": "code",
   "execution_count": 81,
   "metadata": {},
   "outputs": [],
   "source": [
    "from random import randrange\n",
    "\n",
    "class MyModel():\n",
    "    def __init__(self):\n",
    "        self.agents = [] #create an empty list of agents\n",
    "        self.collision = False\n",
    "    \n",
    "    def create_agents(self, number_of_agents):\n",
    "        for i in range(number_of_agents): #loop from 0 to number of agents\n",
    "            user_id = i\n",
    "            position = randrange(5) #generates random number between 1 and 5\n",
    "            agent = MyAgent(user_id, position) #create agent\n",
    "            self.agents.append(agent) # add agent to list of agents\n",
    "            \n",
    "    def step(self):\n",
    "        for agent in self.agents: #loop through agents\n",
    "            distance_to_move = randrange(-1,2) #set distance as either -1, 0 or 1\n",
    "            agent.step(distance_to_move) #move agent\n",
    "            for a in self.agents: #loop through agents again\n",
    "                if self.interaction_critera(agent, a): #if any agent meets interaction critera with \"agent\"\n",
    "                    agent.interact(a) #interact\n",
    "                    self.collision = True #set collision flag to true\n",
    "                    return #stop the current step\n",
    "                    \n",
    "    def run(self, steps):\n",
    "        for i in range(steps): #loop through number of steps\n",
    "            if self.collision: #if collision has been set to true...\n",
    "                break #stop looping\n",
    "            self.step() #run one step\n",
    "            \n",
    "    def interaction_critera(self, agent1, agent2):\n",
    "        do_agents_have_same_id = agent1.agent_id == agent2.agent_id #true if same id\n",
    "        are_agents_in_same_position = agent1.position == agent2.position # true if same position, false otherwise\n",
    "        return are_agents_in_same_position and not do_agents_have_same_id # returns true if in same position and have different ids, false otherwise      "
   ]
  },
  {
   "cell_type": "markdown",
   "metadata": {},
   "source": [
    "## Create And Run Model"
   ]
  },
  {
   "cell_type": "code",
   "execution_count": 2,
   "metadata": {
    "scrolled": true
   },
   "outputs": [
    {
     "ename": "NameError",
     "evalue": "name 'MyModel' is not defined",
     "output_type": "error",
     "traceback": [
      "\u001b[1;31m---------------------------------------------------------------------------\u001b[0m",
      "\u001b[1;31mNameError\u001b[0m                                 Traceback (most recent call last)",
      "\u001b[1;32m<ipython-input-2-658604f9f31a>\u001b[0m in \u001b[0;36m<module>\u001b[1;34m\u001b[0m\n\u001b[1;32m----> 1\u001b[1;33m \u001b[0mmy_model\u001b[0m \u001b[1;33m=\u001b[0m \u001b[0mMyModel\u001b[0m\u001b[1;33m(\u001b[0m\u001b[1;33m)\u001b[0m\u001b[1;33m\u001b[0m\u001b[1;33m\u001b[0m\u001b[0m\n\u001b[0m\u001b[0;32m      2\u001b[0m \u001b[0mmy_model\u001b[0m\u001b[1;33m.\u001b[0m\u001b[0mcreate_agents\u001b[0m\u001b[1;33m(\u001b[0m\u001b[1;36m2\u001b[0m\u001b[1;33m)\u001b[0m\u001b[1;33m\u001b[0m\u001b[1;33m\u001b[0m\u001b[0m\n\u001b[0;32m      3\u001b[0m \u001b[0mmy_model\u001b[0m\u001b[1;33m.\u001b[0m\u001b[0mrun\u001b[0m\u001b[1;33m(\u001b[0m\u001b[1;36m10\u001b[0m\u001b[1;33m)\u001b[0m\u001b[1;33m\u001b[0m\u001b[1;33m\u001b[0m\u001b[0m\n",
      "\u001b[1;31mNameError\u001b[0m: name 'MyModel' is not defined"
     ]
    }
   ],
   "source": [
    "my_model = MyModel()\n",
    "my_model.create_agents(2)\n",
    "my_model.run(10)"
   ]
  },
  {
   "cell_type": "markdown",
   "metadata": {},
   "source": [
    "## Next Steps\n",
    "\n",
    "\n",
    "We have designed a simple agent based model, that doesnt really teach us anything. We can improve this in multiple ways to start building up something intelligent:\n",
    "- make it 3D\n",
    "- have the movement be more realistic:\n",
    "    - rather than moving on a 1d grid, use physically accurate representations of movement, e.g. brownian motion\n",
    "    - look at the way we generate random numbers, does this reflect physics?\n",
    "- make the interaction criteria cleverer:\n",
    "    - instead of assuming two agents in the same position will interact, have two agents in a certain distance able to interact\n",
    "    - make a reaction dependent on a probability (i.e. to make a reaction 50% likely, generate a random number thats either 1 or zero)\n",
    "        - we can then make this probability physically realistic (see Metropolis algorithm)\n",
    "- have two different agents types, one representing the nanoparticle, one representing the surface\n",
    "    - initially have the surface stationary, and have the nanoparticle move\n",
    "- increase the complexity of the agents, to add in ligands and receptors\n",
    "    - now the nanoparticle doesnt bind to the surface, but the ligand binds with the receptors\n",
    "    - maybe keep the surface/nanoparticle stationary, but allow receptors to move (remembering theyre bound to the surface by their tether so have restricted movement)\n",
    "    - maybe then allow the nanoparticle to move, so the ligands can move within their tether length\n",
    "- create more complex models with different ligands and different receptors\n",
    "\n",
    "We also then need to think about how we get data out. Our current model just stops and prints out \"Collision\". This obviously isnt very useful. "
   ]
  },
  {
   "cell_type": "code",
   "execution_count": null,
   "metadata": {},
   "outputs": [],
   "source": []
  }
 ],
 "metadata": {
  "kernelspec": {
   "display_name": "Python 3",
   "language": "python",
   "name": "python3"
  },
  "language_info": {
   "codemirror_mode": {
    "name": "ipython",
    "version": 3
   },
   "file_extension": ".py",
   "mimetype": "text/x-python",
   "name": "python",
   "nbconvert_exporter": "python",
   "pygments_lexer": "ipython3",
   "version": "3.7.4"
  }
 },
 "nbformat": 4,
 "nbformat_minor": 2
}
